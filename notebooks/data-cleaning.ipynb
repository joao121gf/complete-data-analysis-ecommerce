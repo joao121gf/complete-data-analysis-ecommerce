{
 "cells": [
  {
   "cell_type": "code",
   "execution_count": 57,
   "id": "9e5832b7",
   "metadata": {},
   "outputs": [],
   "source": [
    "import pandas as pd\n",
    "from IPython.display import display\n",
    "\n",
    "# Import csv\n",
    "customers = pd.read_csv(\"../data/raw/olist_customers_dataset.csv\")\n",
    "geolocation = pd.read_csv(\"../data/raw/olist_geolocation_dataset.csv\")\n",
    "order_items = pd.read_csv(\"../data/raw/olist_order_items_dataset.csv\")\n",
    "order_payments = pd.read_csv(\"../data/raw/olist_order_payments_dataset.csv\")\n",
    "order_reviews = pd.read_csv(\"../data/raw/olist_order_reviews_dataset.csv\")\n",
    "orders = pd.read_csv(\"../data/raw/olist_orders_dataset.csv\")\n",
    "products = pd.read_csv(\"../data/raw/olist_products_dataset.csv\")\n",
    "sellers = pd.read_csv(\"../data/raw/olist_sellers_dataset.csv\")\n",
    "product_category_translation = pd.read_csv(\"../data/raw/product_category_name_translation.csv\")\n",
    "\n",
    "\n"
   ]
  },
  {
   "cell_type": "code",
   "execution_count": 58,
   "id": "10186c87",
   "metadata": {},
   "outputs": [
    {
     "data": {
      "text/html": [
       "<div>\n",
       "<style scoped>\n",
       "    .dataframe tbody tr th:only-of-type {\n",
       "        vertical-align: middle;\n",
       "    }\n",
       "\n",
       "    .dataframe tbody tr th {\n",
       "        vertical-align: top;\n",
       "    }\n",
       "\n",
       "    .dataframe thead th {\n",
       "        text-align: right;\n",
       "    }\n",
       "</style>\n",
       "<table border=\"1\" class=\"dataframe\">\n",
       "  <thead>\n",
       "    <tr style=\"text-align: right;\">\n",
       "      <th></th>\n",
       "      <th>order_id</th>\n",
       "      <th>customer_id</th>\n",
       "      <th>order_status</th>\n",
       "      <th>order_purchase_timestamp</th>\n",
       "      <th>order_approved_at</th>\n",
       "      <th>order_delivered_carrier_date</th>\n",
       "      <th>order_delivered_customer_date</th>\n",
       "      <th>order_estimated_delivery_date</th>\n",
       "    </tr>\n",
       "  </thead>\n",
       "  <tbody>\n",
       "    <tr>\n",
       "      <th>0</th>\n",
       "      <td>e481f51cbdc54678b7cc49136f2d6af7</td>\n",
       "      <td>9ef432eb6251297304e76186b10a928d</td>\n",
       "      <td>delivered</td>\n",
       "      <td>2017-10-02 10:56:33</td>\n",
       "      <td>2017-10-02 11:07:15</td>\n",
       "      <td>2017-10-04 19:55:00</td>\n",
       "      <td>2017-10-10 21:25:13</td>\n",
       "      <td>2017-10-18 00:00:00</td>\n",
       "    </tr>\n",
       "    <tr>\n",
       "      <th>1</th>\n",
       "      <td>53cdb2fc8bc7dce0b6741e2150273451</td>\n",
       "      <td>b0830fb4747a6c6d20dea0b8c802d7ef</td>\n",
       "      <td>delivered</td>\n",
       "      <td>2018-07-24 20:41:37</td>\n",
       "      <td>2018-07-26 03:24:27</td>\n",
       "      <td>2018-07-26 14:31:00</td>\n",
       "      <td>2018-08-07 15:27:45</td>\n",
       "      <td>2018-08-13 00:00:00</td>\n",
       "    </tr>\n",
       "    <tr>\n",
       "      <th>2</th>\n",
       "      <td>47770eb9100c2d0c44946d9cf07ec65d</td>\n",
       "      <td>41ce2a54c0b03bf3443c3d931a367089</td>\n",
       "      <td>delivered</td>\n",
       "      <td>2018-08-08 08:38:49</td>\n",
       "      <td>2018-08-08 08:55:23</td>\n",
       "      <td>2018-08-08 13:50:00</td>\n",
       "      <td>2018-08-17 18:06:29</td>\n",
       "      <td>2018-09-04 00:00:00</td>\n",
       "    </tr>\n",
       "  </tbody>\n",
       "</table>\n",
       "</div>"
      ],
      "text/plain": [
       "                           order_id                       customer_id  \\\n",
       "0  e481f51cbdc54678b7cc49136f2d6af7  9ef432eb6251297304e76186b10a928d   \n",
       "1  53cdb2fc8bc7dce0b6741e2150273451  b0830fb4747a6c6d20dea0b8c802d7ef   \n",
       "2  47770eb9100c2d0c44946d9cf07ec65d  41ce2a54c0b03bf3443c3d931a367089   \n",
       "\n",
       "  order_status order_purchase_timestamp    order_approved_at  \\\n",
       "0    delivered      2017-10-02 10:56:33  2017-10-02 11:07:15   \n",
       "1    delivered      2018-07-24 20:41:37  2018-07-26 03:24:27   \n",
       "2    delivered      2018-08-08 08:38:49  2018-08-08 08:55:23   \n",
       "\n",
       "  order_delivered_carrier_date order_delivered_customer_date  \\\n",
       "0          2017-10-04 19:55:00           2017-10-10 21:25:13   \n",
       "1          2018-07-26 14:31:00           2018-08-07 15:27:45   \n",
       "2          2018-08-08 13:50:00           2018-08-17 18:06:29   \n",
       "\n",
       "  order_estimated_delivery_date  \n",
       "0           2017-10-18 00:00:00  \n",
       "1           2018-08-13 00:00:00  \n",
       "2           2018-09-04 00:00:00  "
      ]
     },
     "metadata": {},
     "output_type": "display_data"
    }
   ],
   "source": [
    "display(orders.head(3))"
   ]
  },
  {
   "cell_type": "code",
   "execution_count": 59,
   "id": "1fb222d6",
   "metadata": {},
   "outputs": [
    {
     "name": "stdout",
     "output_type": "stream",
     "text": [
      "<class 'pandas.core.frame.DataFrame'>\n",
      "RangeIndex: 99441 entries, 0 to 99440\n",
      "Data columns (total 8 columns):\n",
      " #   Column                         Non-Null Count  Dtype \n",
      "---  ------                         --------------  ----- \n",
      " 0   order_id                       99441 non-null  object\n",
      " 1   customer_id                    99441 non-null  object\n",
      " 2   order_status                   99441 non-null  object\n",
      " 3   order_purchase_timestamp       99441 non-null  object\n",
      " 4   order_approved_at              99281 non-null  object\n",
      " 5   order_delivered_carrier_date   97658 non-null  object\n",
      " 6   order_delivered_customer_date  96476 non-null  object\n",
      " 7   order_estimated_delivery_date  99441 non-null  object\n",
      "dtypes: object(8)\n",
      "memory usage: 6.1+ MB\n"
     ]
    },
    {
     "data": {
      "text/plain": [
       "None"
      ]
     },
     "metadata": {},
     "output_type": "display_data"
    }
   ],
   "source": [
    "display(orders.info())"
   ]
  },
  {
   "cell_type": "code",
   "execution_count": 60,
   "id": "4a066bb8",
   "metadata": {},
   "outputs": [
    {
     "name": "stdout",
     "output_type": "stream",
     "text": [
      "Alterando tipos de coluna para data\n",
      "<class 'pandas.core.frame.DataFrame'>\n",
      "RangeIndex: 99441 entries, 0 to 99440\n",
      "Data columns (total 8 columns):\n",
      " #   Column                         Non-Null Count  Dtype         \n",
      "---  ------                         --------------  -----         \n",
      " 0   order_id                       99441 non-null  object        \n",
      " 1   customer_id                    99441 non-null  object        \n",
      " 2   order_status                   99441 non-null  object        \n",
      " 3   order_purchase_timestamp       99441 non-null  datetime64[ns]\n",
      " 4   order_approved_at              99281 non-null  datetime64[ns]\n",
      " 5   order_delivered_carrier_date   97658 non-null  datetime64[ns]\n",
      " 6   order_delivered_customer_date  96476 non-null  datetime64[ns]\n",
      " 7   order_estimated_delivery_date  99441 non-null  datetime64[ns]\n",
      "dtypes: datetime64[ns](5), object(3)\n",
      "memory usage: 6.1+ MB\n"
     ]
    },
    {
     "data": {
      "text/plain": [
       "None"
      ]
     },
     "metadata": {},
     "output_type": "display_data"
    }
   ],
   "source": [
    "print('Alterando tipos de coluna para data')\n",
    "orders['order_purchase_timestamp'] = pd.to_datetime(orders['order_purchase_timestamp'])\n",
    "orders['order_approved_at'] = pd.to_datetime(orders['order_approved_at'])\n",
    "orders['order_delivered_carrier_date'] = pd.to_datetime(orders['order_delivered_carrier_date'])\n",
    "orders['order_delivered_customer_date'] = pd.to_datetime(orders['order_delivered_customer_date'])\n",
    "orders['order_estimated_delivery_date'] = pd.to_datetime(orders['order_estimated_delivery_date'])\n",
    "display(orders.info())\n"
   ]
  },
  {
   "cell_type": "code",
   "execution_count": 61,
   "id": "e5985f19",
   "metadata": {},
   "outputs": [
    {
     "data": {
      "text/plain": [
       "order_id                            0\n",
       "customer_id                         0\n",
       "order_status                        0\n",
       "order_purchase_timestamp            0\n",
       "order_approved_at                 160\n",
       "order_delivered_carrier_date     1783\n",
       "order_delivered_customer_date    2965\n",
       "order_estimated_delivery_date       0\n",
       "dtype: int64"
      ]
     },
     "metadata": {},
     "output_type": "display_data"
    },
    {
     "name": "stdout",
     "output_type": "stream",
     "text": [
      "Com base nos dados obtemos que 160 produtos ainda não foram aprovados, então iremos excluir esses produtos da análise exploratória\n"
     ]
    },
    {
     "data": {
      "text/plain": [
       "order_id                            0\n",
       "customer_id                         0\n",
       "order_status                        0\n",
       "order_purchase_timestamp            0\n",
       "order_approved_at                   0\n",
       "order_delivered_carrier_date     1637\n",
       "order_delivered_customer_date    2819\n",
       "order_estimated_delivery_date       0\n",
       "dtype: int64"
      ]
     },
     "metadata": {},
     "output_type": "display_data"
    }
   ],
   "source": [
    "#Identificando quantos valores nulos tem em cada coluna\n",
    "display(orders.isnull().sum())\n",
    "#primeiro vamos limpar a tabela orders removendo valores nulos, duplicados\n",
    "\n",
    "print('Com base nos dados obtemos que 160 produtos ainda não foram aprovados, então iremos excluir esses produtos da análise exploratória')\n",
    "\n",
    "orders_filtred = orders.dropna(subset=['order_approved_at'])\n",
    "display(orders_filtred.isnull().sum())"
   ]
  },
  {
   "cell_type": "markdown",
   "id": "c368ee6b",
   "metadata": {},
   "source": [
    "## 📦 Análise de Performance Logística"
   ]
  },
  {
   "cell_type": "markdown",
   "id": "466e3c1b",
   "metadata": {},
   "source": [
    "## 🚚 Tempo médio entre aprovação e entrega"
   ]
  },
  {
   "cell_type": "code",
   "execution_count": 62,
   "id": "5a1826ea",
   "metadata": {},
   "outputs": [
    {
     "name": "stdout",
     "output_type": "stream",
     "text": [
      "O tempo médio de entrega após a aprovação da compra é de 12 dias\n"
     ]
    }
   ],
   "source": [
    "# Análise de vendas:\n",
    "#Tempo médio entre a compra e a entrega (order_purchase_timestamp → order_delivered_customer_date)\n",
    "\n",
    "average_time = (orders_filtred['order_delivered_customer_date'] - orders_filtred['order_approved_at']).mean().days\n",
    "print(f'O tempo médio de entrega após a aprovação da compra é de {average_time} dias')"
   ]
  },
  {
   "cell_type": "code",
   "execution_count": 63,
   "id": "0a253169",
   "metadata": {},
   "outputs": [
    {
     "data": {
      "text/html": [
       "<div>\n",
       "<style scoped>\n",
       "    .dataframe tbody tr th:only-of-type {\n",
       "        vertical-align: middle;\n",
       "    }\n",
       "\n",
       "    .dataframe tbody tr th {\n",
       "        vertical-align: top;\n",
       "    }\n",
       "\n",
       "    .dataframe thead th {\n",
       "        text-align: right;\n",
       "    }\n",
       "</style>\n",
       "<table border=\"1\" class=\"dataframe\">\n",
       "  <thead>\n",
       "    <tr style=\"text-align: right;\">\n",
       "      <th></th>\n",
       "      <th>order_id</th>\n",
       "      <th>customer_id</th>\n",
       "      <th>order_status</th>\n",
       "      <th>order_purchase_timestamp</th>\n",
       "      <th>order_approved_at</th>\n",
       "      <th>order_delivered_carrier_date</th>\n",
       "      <th>order_delivered_customer_date</th>\n",
       "      <th>order_estimated_delivery_date</th>\n",
       "    </tr>\n",
       "  </thead>\n",
       "  <tbody>\n",
       "    <tr>\n",
       "      <th>0</th>\n",
       "      <td>e481f51cbdc54678b7cc49136f2d6af7</td>\n",
       "      <td>9ef432eb6251297304e76186b10a928d</td>\n",
       "      <td>delivered</td>\n",
       "      <td>2017-10-02 10:56:33</td>\n",
       "      <td>2017-10-02 11:07:15</td>\n",
       "      <td>2017-10-04 19:55:00</td>\n",
       "      <td>2017-10-10 21:25:13</td>\n",
       "      <td>2017-10-18</td>\n",
       "    </tr>\n",
       "  </tbody>\n",
       "</table>\n",
       "</div>"
      ],
      "text/plain": [
       "                           order_id                       customer_id  \\\n",
       "0  e481f51cbdc54678b7cc49136f2d6af7  9ef432eb6251297304e76186b10a928d   \n",
       "\n",
       "  order_status order_purchase_timestamp   order_approved_at  \\\n",
       "0    delivered      2017-10-02 10:56:33 2017-10-02 11:07:15   \n",
       "\n",
       "  order_delivered_carrier_date order_delivered_customer_date  \\\n",
       "0          2017-10-04 19:55:00           2017-10-10 21:25:13   \n",
       "\n",
       "  order_estimated_delivery_date  \n",
       "0                    2017-10-18  "
      ]
     },
     "metadata": {},
     "output_type": "display_data"
    }
   ],
   "source": [
    "display(orders_filtred.head(1))\n"
   ]
  },
  {
   "cell_type": "code",
   "execution_count": 64,
   "id": "031380e0",
   "metadata": {},
   "outputs": [
    {
     "name": "stdout",
     "output_type": "stream",
     "text": [
      "O total de pedidos é: 99281\n",
      "Total de pedidos entregues com atraso: 7827\n",
      "Porcentagem de atrasados sobre total de pedidos: 7.88%\n"
     ]
    }
   ],
   "source": [
    "#Porcentagem de entregas atrasadas por categoria de produto, estado e vendedor\n",
    "\n",
    "total_delays = (orders_filtred['order_delivered_customer_date'] > orders_filtred['order_estimated_delivery_date']).sum()\n",
    "\n",
    "print(f'O total de pedidos é: {len(orders_filtred)}')\n",
    "print(f'Total de pedidos entregues com atraso: {total_delays}')\n",
    "\n",
    "#porcentagem de atrasados sobre total de pedidos:\n",
    "percent = round((total_delays / len(orders_filtred)) * 100, 2)\n",
    "print(f'Porcentagem de atrasados sobre total de pedidos: {percent}%')\n",
    "\n",
    "\n",
    "#Porcentagem de entregas atrasadas por categoria de produto\n",
    "\n",
    "#tabela products"
   ]
  },
  {
   "cell_type": "code",
   "execution_count": 65,
   "id": "28ba9cc8",
   "metadata": {},
   "outputs": [
    {
     "data": {
      "text/html": [
       "<div>\n",
       "<style scoped>\n",
       "    .dataframe tbody tr th:only-of-type {\n",
       "        vertical-align: middle;\n",
       "    }\n",
       "\n",
       "    .dataframe tbody tr th {\n",
       "        vertical-align: top;\n",
       "    }\n",
       "\n",
       "    .dataframe thead th {\n",
       "        text-align: right;\n",
       "    }\n",
       "</style>\n",
       "<table border=\"1\" class=\"dataframe\">\n",
       "  <thead>\n",
       "    <tr style=\"text-align: right;\">\n",
       "      <th></th>\n",
       "      <th>product_id</th>\n",
       "      <th>product_category_name</th>\n",
       "      <th>product_name_lenght</th>\n",
       "      <th>product_description_lenght</th>\n",
       "      <th>product_photos_qty</th>\n",
       "      <th>product_weight_g</th>\n",
       "      <th>product_length_cm</th>\n",
       "      <th>product_height_cm</th>\n",
       "      <th>product_width_cm</th>\n",
       "    </tr>\n",
       "  </thead>\n",
       "  <tbody>\n",
       "    <tr>\n",
       "      <th>0</th>\n",
       "      <td>1e9e8ef04dbcff4541ed26657ea517e5</td>\n",
       "      <td>perfumaria</td>\n",
       "      <td>40.0</td>\n",
       "      <td>287.0</td>\n",
       "      <td>1.0</td>\n",
       "      <td>225.0</td>\n",
       "      <td>16.0</td>\n",
       "      <td>10.0</td>\n",
       "      <td>14.0</td>\n",
       "    </tr>\n",
       "  </tbody>\n",
       "</table>\n",
       "</div>"
      ],
      "text/plain": [
       "                         product_id product_category_name  \\\n",
       "0  1e9e8ef04dbcff4541ed26657ea517e5            perfumaria   \n",
       "\n",
       "   product_name_lenght  product_description_lenght  product_photos_qty  \\\n",
       "0                 40.0                       287.0                 1.0   \n",
       "\n",
       "   product_weight_g  product_length_cm  product_height_cm  product_width_cm  \n",
       "0             225.0               16.0               10.0              14.0  "
      ]
     },
     "metadata": {},
     "output_type": "display_data"
    },
    {
     "data": {
      "text/html": [
       "<div>\n",
       "<style scoped>\n",
       "    .dataframe tbody tr th:only-of-type {\n",
       "        vertical-align: middle;\n",
       "    }\n",
       "\n",
       "    .dataframe tbody tr th {\n",
       "        vertical-align: top;\n",
       "    }\n",
       "\n",
       "    .dataframe thead th {\n",
       "        text-align: right;\n",
       "    }\n",
       "</style>\n",
       "<table border=\"1\" class=\"dataframe\">\n",
       "  <thead>\n",
       "    <tr style=\"text-align: right;\">\n",
       "      <th></th>\n",
       "      <th>order_id</th>\n",
       "      <th>customer_id</th>\n",
       "      <th>order_status</th>\n",
       "      <th>order_purchase_timestamp</th>\n",
       "      <th>order_approved_at</th>\n",
       "      <th>order_delivered_carrier_date</th>\n",
       "      <th>order_delivered_customer_date</th>\n",
       "      <th>order_estimated_delivery_date</th>\n",
       "    </tr>\n",
       "  </thead>\n",
       "  <tbody>\n",
       "    <tr>\n",
       "      <th>0</th>\n",
       "      <td>e481f51cbdc54678b7cc49136f2d6af7</td>\n",
       "      <td>9ef432eb6251297304e76186b10a928d</td>\n",
       "      <td>delivered</td>\n",
       "      <td>2017-10-02 10:56:33</td>\n",
       "      <td>2017-10-02 11:07:15</td>\n",
       "      <td>2017-10-04 19:55:00</td>\n",
       "      <td>2017-10-10 21:25:13</td>\n",
       "      <td>2017-10-18</td>\n",
       "    </tr>\n",
       "  </tbody>\n",
       "</table>\n",
       "</div>"
      ],
      "text/plain": [
       "                           order_id                       customer_id  \\\n",
       "0  e481f51cbdc54678b7cc49136f2d6af7  9ef432eb6251297304e76186b10a928d   \n",
       "\n",
       "  order_status order_purchase_timestamp   order_approved_at  \\\n",
       "0    delivered      2017-10-02 10:56:33 2017-10-02 11:07:15   \n",
       "\n",
       "  order_delivered_carrier_date order_delivered_customer_date  \\\n",
       "0          2017-10-04 19:55:00           2017-10-10 21:25:13   \n",
       "\n",
       "  order_estimated_delivery_date  \n",
       "0                    2017-10-18  "
      ]
     },
     "metadata": {},
     "output_type": "display_data"
    },
    {
     "data": {
      "text/html": [
       "<div>\n",
       "<style scoped>\n",
       "    .dataframe tbody tr th:only-of-type {\n",
       "        vertical-align: middle;\n",
       "    }\n",
       "\n",
       "    .dataframe tbody tr th {\n",
       "        vertical-align: top;\n",
       "    }\n",
       "\n",
       "    .dataframe thead th {\n",
       "        text-align: right;\n",
       "    }\n",
       "</style>\n",
       "<table border=\"1\" class=\"dataframe\">\n",
       "  <thead>\n",
       "    <tr style=\"text-align: right;\">\n",
       "      <th></th>\n",
       "      <th>order_id</th>\n",
       "      <th>order_item_id</th>\n",
       "      <th>product_id</th>\n",
       "      <th>seller_id</th>\n",
       "      <th>shipping_limit_date</th>\n",
       "      <th>price</th>\n",
       "      <th>freight_value</th>\n",
       "    </tr>\n",
       "  </thead>\n",
       "  <tbody>\n",
       "    <tr>\n",
       "      <th>0</th>\n",
       "      <td>00010242fe8c5a6d1ba2dd792cb16214</td>\n",
       "      <td>1</td>\n",
       "      <td>4244733e06e7ecb4970a6e2683c13e61</td>\n",
       "      <td>48436dade18ac8b2bce089ec2a041202</td>\n",
       "      <td>2017-09-19 09:45:35</td>\n",
       "      <td>58.9</td>\n",
       "      <td>13.29</td>\n",
       "    </tr>\n",
       "  </tbody>\n",
       "</table>\n",
       "</div>"
      ],
      "text/plain": [
       "                           order_id  order_item_id  \\\n",
       "0  00010242fe8c5a6d1ba2dd792cb16214              1   \n",
       "\n",
       "                         product_id                         seller_id  \\\n",
       "0  4244733e06e7ecb4970a6e2683c13e61  48436dade18ac8b2bce089ec2a041202   \n",
       "\n",
       "   shipping_limit_date  price  freight_value  \n",
       "0  2017-09-19 09:45:35   58.9          13.29  "
      ]
     },
     "metadata": {},
     "output_type": "display_data"
    }
   ],
   "source": [
    "display(products.head(1))\n",
    "display(orders_filtred.head(1))\n",
    "display(order_items.head(1))\n",
    "\n"
   ]
  },
  {
   "cell_type": "code",
   "execution_count": null,
   "id": "0591bfbd",
   "metadata": {},
   "outputs": [
    {
     "data": {
      "text/plain": [
       "7827"
      ]
     },
     "metadata": {},
     "output_type": "display_data"
    }
   ],
   "source": [
    "# Unindo order_items com products para ter a categoria de produto\n",
    "merged_items = pd.merge(order_items, products, on='product_id', how='inner')\n",
    "\n",
    "#Criando uma copy de orders_filtred\n",
    "orders_filtred2 = orders_filtred.copy()\n",
    "\n",
    "# Unindo com orders_filtred para ter as informações dos pedidos\n",
    "merged_data = pd.merge(orders_filtred2, merged_items, on='order_id', how='inner')\n",
    "\n",
    "# Filtrando os pedidos atrasados\n",
    "delayed_orders = merged_data[merged_data['order_delivered_customer_date'] > merged_data['order_estimated_delivery_date']]\n",
    "\n",
    "#Contando apenas pedidos unicos com o mesmo order_id\n",
    "display(delayed_orders['order_id'].nunique())\n"
   ]
  },
  {
   "cell_type": "code",
   "execution_count": 77,
   "id": "62629ca7",
   "metadata": {},
   "outputs": [
    {
     "name": "stdout",
     "output_type": "stream",
     "text": [
      "                         product_category_name  delayed_orders  total_orders delay_percentage\n",
      "                               casa_conforto_2               4            24           16.67%\n",
      "                     moveis_colchao_e_estofado               5            38           13.16%\n",
      "                                         audio              45           350           12.86%\n",
      "                fashion_underwear_e_moda_praia              15           121           12.40%\n",
      "                               livros_tecnicos              28           260           10.77%\n",
      "                                 casa_conforto              41           397           10.33%\n",
      "                                     alimentos              44           450            9.78%\n",
      "                                   eletronicos             247          2550            9.69%\n",
      "                              artigos_de_natal              12           128            9.38%\n",
      "                             moveis_escritorio             115          1273            9.03%\n",
      "             construcao_ferramentas_iluminacao              22           244            9.02%\n",
      "             construcao_ferramentas_construcao              67           748            8.96%\n",
      "                                         bebes             258          2885            8.94%\n",
      "                                  beleza_saude             776          8836            8.78%\n",
      "                            artes_e_artesanato               2            23            8.70%\n",
      "                               cama_mesa_banho             811          9416            8.61%\n",
      "                         instrumentos_musicais              54           628            8.60%\n",
      "                                    automotivo             328          3897            8.42%\n",
      "                            relogios_presentes             468          5624            8.32%\n",
      "                                     telefonia             349          4198            8.31%\n",
      "                              moveis_decoracao             535          6446            8.30%\n",
      "                                   moveis_sala              35           422            8.29%\n",
      "                 industria_comercio_e_negocios              19           235            8.09%\n",
      "                               casa_construcao              39           490            7.96%\n",
      "                                        musica               3            38            7.89%\n",
      "                                consoles_games              83          1062            7.82%\n",
      "                            ferramentas_jardim             274          3517            7.79%\n",
      "                                     cine_foto               5            65            7.69%\n",
      "                                     papelaria             176          2311            7.62%\n",
      "                                 esporte_lazer             584          7718            7.57%\n",
      "                        informatica_acessorios             503          6689            7.52%\n",
      "                                         artes              15           202            7.43%\n",
      "                               fashion_esporte               2            27            7.41%\n",
      "                                 moveis_quarto               7            95            7.37%\n",
      "                                    brinquedos             286          3886            7.36%\n",
      "                                    perfumaria             228          3162            7.21%\n",
      "                                           pcs              13           181            7.18%\n",
      " portateis_cozinha_e_preparadores_de_alimentos               1            14            7.14%\n",
      "                            eletrodomesticos_2              16           234            6.84%\n",
      "                         utilidades_domesticas             399          5884            6.78%\n",
      "                                  dvds_blu_ray               4            59            6.78%\n",
      "                 construcao_ferramentas_jardim              13           194            6.70%\n",
      "                                    cool_stuff             243          3629            6.70%\n",
      "                   portateis_casa_forno_e_cafe               5            75            6.67%\n",
      "                        livros_interesse_geral              34           512            6.64%\n",
      "                              eletrodomesticos              50           764            6.54%\n",
      "                   fashion_bolsas_e_acessorios             121          1864            6.49%\n",
      "                                       bebidas              19           297            6.40%\n",
      "                      tablets_impressao_imagem               5            79            6.33%\n",
      "                              fashion_calcados              15           240            6.25%\n",
      "                                      pet_shop             106          1710            6.20%\n",
      "            construcao_ferramentas_ferramentas               6            97            6.19%\n",
      "                             alimentos_bebidas              14           227            6.17%\n",
      "                               eletroportateis              38           629            6.04%\n",
      "                       sinalizacao_e_seguranca               8           140            5.71%\n",
      "                              malas_acessorios              56          1034            5.42%\n",
      "                        fashion_roupa_feminina               2            39            5.13%\n",
      "                                telefonia_fixa              11           217            5.07%\n",
      "                     agro_industria_e_comercio               9           182            4.95%\n",
      "                                  market_place              13           280            4.64%\n",
      "                       fashion_roupa_masculina               5           112            4.46%\n",
      "moveis_cozinha_area_de_servico_jantar_e_jardim              11           248            4.44%\n",
      "              construcao_ferramentas_seguranca               7           166            4.22%\n",
      "                                  climatizacao              10           253            3.95%\n",
      "                             livros_importados               2            53            3.77%\n",
      "                               fraldas_higiene               1            27            3.70%\n",
      "                                        flores               1            29            3.45%\n",
      "                             artigos_de_festas               1            39            2.56%\n"
     ]
    }
   ],
   "source": [
    "# 1. Total de pedidos atrasados por categoria\n",
    "delayed_counts = delayed_orders.groupby('product_category_name')['order_id'].nunique().reset_index()\n",
    "delayed_counts.columns = ['product_category_name', 'delayed_orders']\n",
    "\n",
    "# 2. Total de pedidos por categoria (com base em pedidos aprovados)\n",
    "total_counts = merged_data.groupby('product_category_name')['order_id'].nunique().reset_index()\n",
    "total_counts.columns = ['product_category_name', 'total_orders']\n",
    "\n",
    "# 3. Juntando os dois DataFrames\n",
    "delay_stats = pd.merge(delayed_counts, total_counts, on='product_category_name', how='left')\n",
    "\n",
    "# 4. Calculando a porcentagem de pedidos atrasados por categoria\n",
    "delay_stats['delay_percentage'] = (delay_stats['delayed_orders'] / delay_stats['total_orders']) * 100\n",
    "\n",
    "# 5. Ordenando por maior percentual de atraso\n",
    "delay_stats = delay_stats.sort_values(by='delay_percentage', ascending=False)\n",
    "\n",
    "# Exibindo o resultado\n",
    "print(delay_stats.to_string(index=False, formatters={'delay_percentage': '{:.2f}%'.format}))\n",
    "\n",
    "delay_stats.to_csv('delayed_orders_by_category.csv', sep=',')"
   ]
  }
 ],
 "metadata": {
  "kernelspec": {
   "display_name": "Python 3",
   "language": "python",
   "name": "python3"
  },
  "language_info": {
   "codemirror_mode": {
    "name": "ipython",
    "version": 3
   },
   "file_extension": ".py",
   "mimetype": "text/x-python",
   "name": "python",
   "nbconvert_exporter": "python",
   "pygments_lexer": "ipython3",
   "version": "3.13.1"
  }
 },
 "nbformat": 4,
 "nbformat_minor": 5
}
